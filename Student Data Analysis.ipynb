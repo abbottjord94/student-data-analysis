{
 "cells": [
  {
   "cell_type": "code",
   "execution_count": 2,
   "metadata": {},
   "outputs": [
    {
     "data": {
      "text/plain": [
       "<matplotlib.axes._subplots.AxesSubplot at 0x7fbe04b80d68>"
      ]
     },
     "execution_count": 2,
     "metadata": {},
     "output_type": "execute_result"
    },
    {
     "data": {
      "image/png": "[encoded data removed]",
      "text/plain": [
       "<Figure size 432x288 with 1 Axes>"
      ]
     },
     "metadata": {
      "needs_background": "light"
     },
     "output_type": "display_data"
    }
   ],
   "source": [
    "import csv\n",
    "import pandas\n",
    "\n",
    "term1_students = {}\n",
    "answer_key = {}\n",
    "test_answers = {}\n",
    "\n",
    "with open(\"data.csv\") as csvfile:\n",
    "    reader = csv.reader(csvfile,delimiter=',')\n",
    "    for row in reader:\n",
    "        if(row[0] == 'KEY'):\n",
    "            for i in range(6,33):\n",
    "                test_key = \"Q\"+str(i-5)\n",
    "                answer_key[test_key] = row[i]\n",
    "        if(row[0] !='Participant Code' and row[0] != 'KEY' and row[0] != ''):\n",
    "            if(term1_students.get(row[0]) == None):\n",
    "                term1_students[row[0]] = {\n",
    "                    \"preTestAnswers\":{},\n",
    "                    \"postTestAnswers\":{},\n",
    "                    \"courseGrade\":'',\n",
    "                    \"coursePercentage\":'',\n",
    "                    \"preTestScore\":0,\n",
    "                    \"postTestScore\":0,\n",
    "                    \"testScoreChange\":0\n",
    "                }\n",
    "            term1_students[row[0]][\"courseGrade\"] = str(row[4])\n",
    "            term1_students[row[0]][\"coursePercentage\"] = str(row[5])\n",
    "            for i in range(6,33):\n",
    "                test_key = \"Q\"+str(i-5)\n",
    "                test_answers[test_key] = row[i]\n",
    "            \n",
    "        if(row[2] == 'Pre'):\n",
    "            term1_students[row[0]][\"preTestAnswers\"] = test_answers\n",
    "        elif(row[2] == 'Post'):\n",
    "            term1_students[row[0]][\"postTestAnswers\"] = test_answers\n",
    "            \n",
    "        test_answers = {}\n",
    "        \n",
    "data = {\n",
    "    'testScoreChanges':[],\n",
    "    'coursePercentages':[]\n",
    "}\n",
    "for i in term1_students:\n",
    "    score = 0.0\n",
    "    for j in term1_students[i][\"preTestAnswers\"]:\n",
    "        if(term1_students[i][\"preTestAnswers\"][j] == answer_key[j]):\n",
    "            score += 1\n",
    "    \n",
    "    term1_students[i][\"preTestScore\"] = (score/len(answer_key))*100\n",
    "    score = 0.0\n",
    "    \n",
    "    for k in term1_students[i][\"postTestAnswers\"]:\n",
    "        if(term1_students[i][\"postTestAnswers\"][j] == answer_key[k]):\n",
    "            score += 1\n",
    "    \n",
    "    term1_students[i][\"postTestScore\"] = (score/len(answer_key))*100\n",
    "    term1_students[i][\"testScoreChange\"] = term1_students[i][\"postTestScore\"] - term1_students[i][\"preTestScore\"]\n",
    "    data['coursePercentages'].append(term1_students[i][\"coursePercentage\"])\n",
    "    data['testScoreChanges'].append(term1_students[i][\"testScoreChange\"])\n",
    "    \n",
    "    #print(term1_students[i])\n",
    "    \n",
    "df = pandas.DataFrame(data,columns=['coursePercentages', 'testScoreChanges'])\n",
    "df.plot(x='coursePercentages', y='testScoreChanges', kind='scatter')"
   ]
  },
  {
   "cell_type": "code",
   "execution_count": null,
   "metadata": {},
   "outputs": [],
   "source": []
  }
 ],
 "metadata": {
  "kernelspec": {
   "display_name": "Python 3",
   "language": "python",
   "name": "python3"
  },
  "language_info": {
   "codemirror_mode": {
    "name": "ipython",
    "version": 3
   },
   "file_extension": ".py",
   "mimetype": "text/x-python",
   "name": "python",
   "nbconvert_exporter": "python",
   "pygments_lexer": "ipython3",
   "version": "3.6.9"
  }
 },
 "nbformat": 4,
 "nbformat_minor": 4
}
